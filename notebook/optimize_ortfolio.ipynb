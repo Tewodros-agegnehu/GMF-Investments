{
 "cells": [
  {
   "cell_type": "code",
   "execution_count": 1,
   "metadata": {},
   "outputs": [],
   "source": [
    "import pandas as pd \n",
    "import numpy as np \n",
    "import matplotlib.pyplot as plt\n",
    "import joblib\n",
    "\n"
   ]
  },
  {
   "cell_type": "code",
   "execution_count": 2,
   "metadata": {},
   "outputs": [],
   "source": [
    "import sys\n",
    "import os\n",
    "sys.path.append(os.path.abspath(\"../scripts\"))\n",
    "try:\n",
    "    from eda import ExplanatoryAnalysis\n",
    "    from model_training import modelTrain\n",
    "except:\n",
    "    print(\"import error\")"
   ]
  },
  {
   "cell_type": "code",
   "execution_count": 3,
   "metadata": {},
   "outputs": [],
   "source": [
    "df_bnd = pd.read_csv('C:\\\\Users\\\\Aman\\\\Desktop\\\\kifyaw11\\\\Data\\\\BND_raw_data.csv')\n",
    "df_spy = pd.read_csv('C:\\\\Users\\\\Aman\\\\Desktop\\\\kifyaw11\\\\Data\\\\SPY_raw_data.csv')\n",
    "df_tsla = pd.read_csv('C:\\\\Users\\\\Aman\\\\Desktop\\\\kifyaw11\\\\Data\\\\TSLA_raw_data.csv')"
   ]
  },
  {
   "cell_type": "code",
   "execution_count": 4,
   "metadata": {},
   "outputs": [],
   "source": [
    "bnd_eda = ExplanatoryAnalysis()\n",
    "spy_eda = ExplanatoryAnalysis()\n",
    "tsla_eda = ExplanatoryAnalysis()\n",
    "\n"
   ]
  },
  {
   "cell_type": "code",
   "execution_count": 5,
   "metadata": {},
   "outputs": [],
   "source": [
    "df_bnd=bnd_eda.to_time(df_bnd, \"BND\")\n",
    "df_spy=spy_eda.to_time(df_spy, \"SPY\")\n",
    "df_tsla=tsla_eda.to_time(df_tsla, \"TSLA\")"
   ]
  },
  {
   "cell_type": "code",
   "execution_count": 6,
   "metadata": {},
   "outputs": [
    {
     "data": {
      "text/html": [
       "<div>\n",
       "<style scoped>\n",
       "    .dataframe tbody tr th:only-of-type {\n",
       "        vertical-align: middle;\n",
       "    }\n",
       "\n",
       "    .dataframe tbody tr th {\n",
       "        vertical-align: top;\n",
       "    }\n",
       "\n",
       "    .dataframe thead th {\n",
       "        text-align: right;\n",
       "    }\n",
       "</style>\n",
       "<table border=\"1\" class=\"dataframe\">\n",
       "  <thead>\n",
       "    <tr style=\"text-align: right;\">\n",
       "      <th></th>\n",
       "      <th>Close_BND</th>\n",
       "      <th>High_BND</th>\n",
       "      <th>Low_BND</th>\n",
       "      <th>Open_BND</th>\n",
       "      <th>Volume_BND</th>\n",
       "    </tr>\n",
       "    <tr>\n",
       "      <th>Date</th>\n",
       "      <th></th>\n",
       "      <th></th>\n",
       "      <th></th>\n",
       "      <th></th>\n",
       "      <th></th>\n",
       "    </tr>\n",
       "  </thead>\n",
       "  <tbody>\n",
       "    <tr>\n",
       "      <th>2015-01-02</th>\n",
       "      <td>62.573120</td>\n",
       "      <td>62.603404</td>\n",
       "      <td>62.398988</td>\n",
       "      <td>62.406560</td>\n",
       "      <td>2218800</td>\n",
       "    </tr>\n",
       "    <tr>\n",
       "      <th>2015-01-05</th>\n",
       "      <td>62.754799</td>\n",
       "      <td>62.777511</td>\n",
       "      <td>62.610951</td>\n",
       "      <td>62.641235</td>\n",
       "      <td>5820100</td>\n",
       "    </tr>\n",
       "    <tr>\n",
       "      <th>2015-01-06</th>\n",
       "      <td>62.936516</td>\n",
       "      <td>63.125787</td>\n",
       "      <td>62.860808</td>\n",
       "      <td>62.860808</td>\n",
       "      <td>3887600</td>\n",
       "    </tr>\n",
       "    <tr>\n",
       "      <th>2015-01-07</th>\n",
       "      <td>62.974384</td>\n",
       "      <td>63.050092</td>\n",
       "      <td>62.875965</td>\n",
       "      <td>62.944100</td>\n",
       "      <td>2433400</td>\n",
       "    </tr>\n",
       "    <tr>\n",
       "      <th>2015-01-08</th>\n",
       "      <td>62.875988</td>\n",
       "      <td>62.921411</td>\n",
       "      <td>62.815420</td>\n",
       "      <td>62.921411</td>\n",
       "      <td>1873400</td>\n",
       "    </tr>\n",
       "    <tr>\n",
       "      <th>...</th>\n",
       "      <td>...</td>\n",
       "      <td>...</td>\n",
       "      <td>...</td>\n",
       "      <td>...</td>\n",
       "      <td>...</td>\n",
       "    </tr>\n",
       "    <tr>\n",
       "      <th>2025-01-24</th>\n",
       "      <td>71.805977</td>\n",
       "      <td>71.855810</td>\n",
       "      <td>71.636531</td>\n",
       "      <td>71.766106</td>\n",
       "      <td>5555700</td>\n",
       "    </tr>\n",
       "    <tr>\n",
       "      <th>2025-01-27</th>\n",
       "      <td>72.184738</td>\n",
       "      <td>72.204677</td>\n",
       "      <td>72.025262</td>\n",
       "      <td>72.104996</td>\n",
       "      <td>8621200</td>\n",
       "    </tr>\n",
       "    <tr>\n",
       "      <th>2025-01-28</th>\n",
       "      <td>72.144867</td>\n",
       "      <td>72.154837</td>\n",
       "      <td>71.975421</td>\n",
       "      <td>72.154837</td>\n",
       "      <td>4424300</td>\n",
       "    </tr>\n",
       "    <tr>\n",
       "      <th>2025-01-29</th>\n",
       "      <td>72.104996</td>\n",
       "      <td>72.254510</td>\n",
       "      <td>71.935550</td>\n",
       "      <td>72.194707</td>\n",
       "      <td>5780200</td>\n",
       "    </tr>\n",
       "    <tr>\n",
       "      <th>2025-01-30</th>\n",
       "      <td>72.204674</td>\n",
       "      <td>72.294378</td>\n",
       "      <td>72.144864</td>\n",
       "      <td>72.224605</td>\n",
       "      <td>5622300</td>\n",
       "    </tr>\n",
       "  </tbody>\n",
       "</table>\n",
       "<p>2535 rows × 5 columns</p>\n",
       "</div>"
      ],
      "text/plain": [
       "            Close_BND   High_BND    Low_BND   Open_BND  Volume_BND\n",
       "Date                                                              \n",
       "2015-01-02  62.573120  62.603404  62.398988  62.406560     2218800\n",
       "2015-01-05  62.754799  62.777511  62.610951  62.641235     5820100\n",
       "2015-01-06  62.936516  63.125787  62.860808  62.860808     3887600\n",
       "2015-01-07  62.974384  63.050092  62.875965  62.944100     2433400\n",
       "2015-01-08  62.875988  62.921411  62.815420  62.921411     1873400\n",
       "...               ...        ...        ...        ...         ...\n",
       "2025-01-24  71.805977  71.855810  71.636531  71.766106     5555700\n",
       "2025-01-27  72.184738  72.204677  72.025262  72.104996     8621200\n",
       "2025-01-28  72.144867  72.154837  71.975421  72.154837     4424300\n",
       "2025-01-29  72.104996  72.254510  71.935550  72.194707     5780200\n",
       "2025-01-30  72.204674  72.294378  72.144864  72.224605     5622300\n",
       "\n",
       "[2535 rows x 5 columns]"
      ]
     },
     "execution_count": 6,
     "metadata": {},
     "output_type": "execute_result"
    }
   ],
   "source": [
    "df_bnd\n"
   ]
  },
  {
   "cell_type": "code",
   "execution_count": 6,
   "metadata": {},
   "outputs": [],
   "source": [
    "bnd_model = modelTrain(df_bnd)\n",
    "spy_model = modelTrain(df_spy)\n",
    "tsla_model = modelTrain(df_tsla)"
   ]
  },
  {
   "cell_type": "code",
   "execution_count": null,
   "metadata": {},
   "outputs": [],
   "source": [
    "bnd_trained = bnd_model.forecast_plot(\"BND\")\n"
   ]
  },
  {
   "cell_type": "code",
   "execution_count": null,
   "metadata": {},
   "outputs": [],
   "source": [
    "tsla_trained = tsla_model.model()\n"
   ]
  },
  {
   "cell_type": "code",
   "execution_count": null,
   "metadata": {},
   "outputs": [],
   "source": [
    "spy_trained = spy_model.model()"
   ]
  }
 ],
 "metadata": {
  "kernelspec": {
   "display_name": ".venv",
   "language": "python",
   "name": "python3"
  },
  "language_info": {
   "codemirror_mode": {
    "name": "ipython",
    "version": 3
   },
   "file_extension": ".py",
   "mimetype": "text/x-python",
   "name": "python",
   "nbconvert_exporter": "python",
   "pygments_lexer": "ipython3",
   "version": "3.11.9"
  }
 },
 "nbformat": 4,
 "nbformat_minor": 2
}
